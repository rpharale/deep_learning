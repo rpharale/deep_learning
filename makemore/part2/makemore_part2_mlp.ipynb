{
 "cells": [
  {
   "cell_type": "code",
   "execution_count": 1,
   "id": "2d8ff176",
   "metadata": {},
   "outputs": [],
   "source": [
    "import torch\n",
    "import torch.nn.functional as F\n",
    "import matplotlib.pyplot as plt\n",
    "%matplotlib inline"
   ]
  },
  {
   "cell_type": "code",
   "execution_count": 2,
   "id": "097b2a5e",
   "metadata": {},
   "outputs": [
    {
     "data": {
      "text/plain": [
       "['emma', 'olivia', 'ava', 'isabella', 'sophia']"
      ]
     },
     "execution_count": 2,
     "metadata": {},
     "output_type": "execute_result"
    }
   ],
   "source": [
    "words = open('names.txt', 'r').read().splitlines()\n",
    "words[:5]"
   ]
  },
  {
   "cell_type": "code",
   "execution_count": 3,
   "id": "092064ad",
   "metadata": {},
   "outputs": [
    {
     "data": {
      "text/plain": [
       "{1: 'a',\n",
       " 2: 'b',\n",
       " 3: 'c',\n",
       " 4: 'd',\n",
       " 5: 'e',\n",
       " 6: 'f',\n",
       " 7: 'g',\n",
       " 8: 'h',\n",
       " 9: 'i',\n",
       " 10: 'j',\n",
       " 11: 'k',\n",
       " 12: 'l',\n",
       " 13: 'm',\n",
       " 14: 'n',\n",
       " 15: 'o',\n",
       " 16: 'p',\n",
       " 17: 'q',\n",
       " 18: 'r',\n",
       " 19: 's',\n",
       " 20: 't',\n",
       " 21: 'u',\n",
       " 22: 'v',\n",
       " 23: 'w',\n",
       " 24: 'x',\n",
       " 25: 'y',\n",
       " 26: 'z',\n",
       " 0: '.'}"
      ]
     },
     "execution_count": 3,
     "metadata": {},
     "output_type": "execute_result"
    }
   ],
   "source": [
    "chars = sorted(list(set(''.join(words))))\n",
    "stoi = {ch: i+1 for i,ch in enumerate(chars)}\n",
    "stoi['.'] = 0\n",
    "itos = {v:k for k,v in stoi.items()}\n",
    "itos"
   ]
  },
  {
   "cell_type": "markdown",
   "id": "1056dddd",
   "metadata": {},
   "source": [
    "## Prepare the dataset"
   ]
  },
  {
   "cell_type": "code",
   "execution_count": 4,
   "id": "9f3c661c",
   "metadata": {},
   "outputs": [],
   "source": [
    "block_size = 3"
   ]
  },
  {
   "cell_type": "code",
   "execution_count": 5,
   "id": "b83a7860",
   "metadata": {},
   "outputs": [],
   "source": [
    "# Prepare a dataset\n",
    "def build_dataset(words):\n",
    "    X, Y = [], []\n",
    "    for w in words:\n",
    "        context = [0] * block_size\n",
    "        #print(w)\n",
    "        for ch in w + '.':\n",
    "            idx = stoi[ch]\n",
    "            X.append(context)\n",
    "            Y.append(idx)\n",
    "            #print(''.join([itos[i] for i in context]) + ' --> ' + ch)\n",
    "            context = context[1:] + [idx]\n",
    "        #print('')\n",
    "\n",
    "    X = torch.tensor(X)\n",
    "    Y = torch.tensor(Y)\n",
    "    print(X.shape, X.dtype, Y.shape, Y.dtype)\n",
    "    return X, Y"
   ]
  },
  {
   "cell_type": "code",
   "execution_count": 6,
   "id": "2c9aa127",
   "metadata": {},
   "outputs": [
    {
     "name": "stdout",
     "output_type": "stream",
     "text": [
      "torch.Size([182625, 3]) torch.int64 torch.Size([182625]) torch.int64\n",
      "torch.Size([22655, 3]) torch.int64 torch.Size([22655]) torch.int64\n",
      "torch.Size([22866, 3]) torch.int64 torch.Size([22866]) torch.int64\n",
      "Train dataset shape: ((torch.Size([182625, 3]), torch.Size([182625])))\n",
      "Dev dataset shape: ((torch.Size([22655, 3]), torch.Size([22655])))\n",
      "Test dataset shape: ((torch.Size([22866, 3]), torch.Size([22866])))\n"
     ]
    }
   ],
   "source": [
    "import random\n",
    "random.seed(42)\n",
    "random.shuffle(words)\n",
    "words[:5]\n",
    "n1 = int(0.8 * len(words))\n",
    "n2 = int(0.9 * len(words))\n",
    "Xtr, Ytr = build_dataset(words[:n1])\n",
    "Xdev, Ydev = build_dataset(words[n1:n2])\n",
    "Xte, Yte = build_dataset(words[n2:])\n",
    "print(f\"Train dataset shape: ({Xtr.shape, Ytr.shape})\")\n",
    "print(f\"Dev dataset shape: ({Xdev.shape, Ydev.shape})\")\n",
    "print(f\"Test dataset shape: ({Xte.shape, Yte.shape})\")"
   ]
  },
  {
   "cell_type": "markdown",
   "id": "e7909302",
   "metadata": {},
   "source": [
    "### Scratch space for learning"
   ]
  },
  {
   "cell_type": "code",
   "execution_count": 7,
   "id": "6be44431",
   "metadata": {},
   "outputs": [],
   "source": [
    "#initialize a Look up table\n",
    "C = torch.randn((27,2))"
   ]
  },
  {
   "cell_type": "code",
   "execution_count": 8,
   "id": "f0058e6f",
   "metadata": {},
   "outputs": [
    {
     "data": {
      "text/plain": [
       "torch.Size([182625, 3, 2])"
      ]
     },
     "execution_count": 8,
     "metadata": {},
     "output_type": "execute_result"
    }
   ],
   "source": [
    "# embeddings for all the inputs\n",
    "emb = C[Xtr]\n",
    "emb.shape"
   ]
  },
  {
   "cell_type": "code",
   "execution_count": 9,
   "id": "5f893dbe",
   "metadata": {},
   "outputs": [
    {
     "data": {
      "text/plain": [
       "torch.Size([182625, 6])"
      ]
     },
     "execution_count": 9,
     "metadata": {},
     "output_type": "execute_result"
    }
   ],
   "source": [
    "# Concatenate the embeddings of all 3 chars in the inputs and reduce the middle dim\n",
    "# torch.cat((emb[:, 0, :], emb[:, 1, :], emb[:, 2, :]),dim=1)\n",
    "# Below line is equivalent to the above line. Unbind does exactly teh slicing that is done manually in \n",
    "# the above line\n",
    "torch.cat(torch.unbind(emb, dim=1),dim=1).shape"
   ]
  },
  {
   "cell_type": "code",
   "execution_count": 10,
   "id": "44247492",
   "metadata": {},
   "outputs": [
    {
     "data": {
      "text/plain": [
       "torch.Size([182625, 6])"
      ]
     },
     "execution_count": 10,
     "metadata": {},
     "output_type": "execute_result"
    }
   ],
   "source": [
    "# More efficient way to do teh above tensor manipulation is using .view as below\n",
    "emb.view(-1,6).shape"
   ]
  },
  {
   "cell_type": "code",
   "execution_count": 11,
   "id": "3e63e295",
   "metadata": {},
   "outputs": [],
   "source": [
    "# Weights and biases\n",
    "W = torch.randn((6, 100)) # 100 is hyperparameter. It's number of activations\n",
    "b = torch.randn(100)"
   ]
  },
  {
   "cell_type": "markdown",
   "id": "128c070b",
   "metadata": {},
   "source": [
    "### Neural network training code"
   ]
  },
  {
   "cell_type": "code",
   "execution_count": 12,
   "id": "3d848609",
   "metadata": {},
   "outputs": [
    {
     "data": {
      "text/plain": [
       "(torch.Size([182625, 3]), torch.Size([182625]))"
      ]
     },
     "execution_count": 12,
     "metadata": {},
     "output_type": "execute_result"
    }
   ],
   "source": [
    "Xtr.shape, Ytr.shape # dataset"
   ]
  },
  {
   "cell_type": "code",
   "execution_count": 13,
   "id": "e8f0b8d4",
   "metadata": {},
   "outputs": [],
   "source": [
    "# parameters\n",
    "embedding_dim = 10\n",
    "g = torch.Generator().manual_seed(2147483647)\n",
    "C = torch.randn((27, embedding_dim), generator=g)  # Look up table for embedding of each character\n",
    "W1 = torch.randn((embedding_dim * block_size, 200), generator=g)\n",
    "b1 = torch.randn((200), generator=g)\n",
    "W2 = torch.randn((200, 27), generator=g)\n",
    "b2 = torch.randn((27), generator=g)\n",
    "\n",
    "parameters = [C, W1, b1, W2, b2]"
   ]
  },
  {
   "cell_type": "code",
   "execution_count": 14,
   "id": "f235bdf4",
   "metadata": {},
   "outputs": [
    {
     "data": {
      "text/plain": [
       "11897"
      ]
     },
     "execution_count": 14,
     "metadata": {},
     "output_type": "execute_result"
    }
   ],
   "source": [
    "sum([p.nelement() for p in parameters]) # total parameters"
   ]
  },
  {
   "cell_type": "code",
   "execution_count": 15,
   "id": "726ca034",
   "metadata": {},
   "outputs": [],
   "source": [
    "# Set requires grad to true\n",
    "for p in parameters:\n",
    "    p.requires_grad = True"
   ]
  },
  {
   "cell_type": "code",
   "execution_count": 16,
   "id": "53b54680",
   "metadata": {},
   "outputs": [],
   "source": [
    "stepi = []\n",
    "lossi = []"
   ]
  },
  {
   "cell_type": "code",
   "execution_count": 17,
   "id": "8eb53860",
   "metadata": {},
   "outputs": [],
   "source": [
    "# Gradient descent\n",
    "for i in range(200000):\n",
    "    # construct a minibatch\n",
    "    batch_size = 32\n",
    "    ix = torch.randint(0, Xtr.shape[0], (batch_size,))\n",
    "    \n",
    "    # Forward pass\n",
    "    emb = C[Xtr[ix]].view(-1, embedding_dim * block_size) # [batch_size, embedding_dim * block_size] Ex: [32, 6]\n",
    "    h1 = torch.tanh(emb @ W1 + b1) # [32, 6] @ [6, 100] + [100,] --> [32, 100] + [100] --> [32,100] (Using broadcasting rules)\n",
    "    logits = h1 @ W2 + b2 # [32, 100] @ [100, 27] + [27] --> [32, 27] + [27] --> [32, 27]\n",
    "    loss = F.cross_entropy(logits, Ytr[ix]) # [1,]\n",
    "\n",
    "    # Backward pass\n",
    "    for p in parameters:\n",
    "        p.grad = None\n",
    "    loss.backward()\n",
    "\n",
    "    # Update\n",
    "    lr = 0.1 if i < 100000 else 0.01 # set this to 0.1 in the beginning and decay later\n",
    "    for p in parameters:\n",
    "        p.data += -lr * p.grad\n",
    "    \n",
    "    # track values\n",
    "    stepi.append(i)\n",
    "    lossi.append(loss.log10().item())\n",
    "    \n",
    "    #print(f\"iter={i}, loss={loss}\")\n"
   ]
  },
  {
   "cell_type": "code",
   "execution_count": 18,
   "id": "dbbbed11",
   "metadata": {},
   "outputs": [
    {
     "data": {
      "text/plain": [
       "[<matplotlib.lines.Line2D at 0x1158072e0>]"
      ]
     },
     "execution_count": 18,
     "metadata": {},
     "output_type": "execute_result"
    },
    {
     "data": {
      "image/png": "[encoded data removed]",
      "text/plain": [
       "<Figure size 640x480 with 1 Axes>"
      ]
     },
     "metadata": {},
     "output_type": "display_data"
    }
   ],
   "source": [
    "# Plot teh loss curve\n",
    "plt.plot(stepi, lossi)"
   ]
  },
  {
   "cell_type": "code",
   "execution_count": 19,
   "id": "22169b3c",
   "metadata": {},
   "outputs": [],
   "source": [
    "# Evaluate the loss on the entire training set\n",
    "def calculate_loss(X, Y):\n",
    "    emb = C[X].view(-1, embedding_dim * block_size)\n",
    "    h1 = torch.tanh(emb @ W1 + b1)\n",
    "    logits = h1 @ W2 + b2\n",
    "    loss = F.cross_entropy(logits, Y)\n",
    "    loss\n",
    "    return loss"
   ]
  },
  {
   "cell_type": "code",
   "execution_count": 20,
   "id": "b880bb5a",
   "metadata": {},
   "outputs": [
    {
     "name": "stdout",
     "output_type": "stream",
     "text": [
      "Train loss=2.1218340396881104, dev loss=2.159954071044922\n"
     ]
    }
   ],
   "source": [
    "# Train loss\n",
    "train_loss = calculate_loss(Xtr, Ytr)\n",
    "dev_loss = calculate_loss(Xdev, Ydev)\n",
    "print(f\"Train loss={train_loss}, dev loss={dev_loss}\")"
   ]
  },
  {
   "cell_type": "code",
   "execution_count": 21,
   "id": "5970b265",
   "metadata": {},
   "outputs": [
    {
     "data": {
      "image/png": "[encoded data removed]",
      "text/plain": [
       "<Figure size 800x800 with 1 Axes>"
      ]
     },
     "metadata": {},
     "output_type": "display_data"
    }
   ],
   "source": [
    "# Visualize the embeddings\n",
    "# Makes sense only if the embedding_dim is set to 2.\n",
    "plt.figure(figsize=(8, 8))\n",
    "plt.scatter(C[:, 0].data, C[:, 1].data, s=200)\n",
    "for i in range(C.shape[0]):\n",
    "    plt.text(C[i, 0].item(), C[i, 1].item(), itos[i], ha=\"center\", va=\"center\", color=\"white\")\n",
    "plt.grid('minor')"
   ]
  },
  {
   "cell_type": "code",
   "execution_count": 22,
   "id": "d0dd220a",
   "metadata": {},
   "outputs": [
    {
     "name": "stdout",
     "output_type": "stream",
     "text": [
      "mir.\n",
      "avtarikarlynsley.\n",
      "kimbrely.\n",
      "elandlynnu.\n",
      "rigan.\n",
      "ciio.\n",
      "hakaishalanifentley.\n",
      "elyn.\n",
      "raj.\n",
      "avaaganur.\n",
      "hellagolin.\n",
      "deolu.\n",
      "aiba.\n",
      "amilie.\n",
      "aaustobica.\n",
      "ross.\n",
      "dye.\n",
      "vesrie.\n",
      "lannykayson.\n",
      "deonalaylina.\n"
     ]
    }
   ],
   "source": [
    "# Sample from the model\n",
    "g = torch.Generator().manual_seed(2147483647)\n",
    "for j in range(20):\n",
    "    context = [0] * block_size\n",
    "    out = []\n",
    "    while True:\n",
    "        emb = C[torch.tensor(context)].view(-1, embedding_dim * block_size)\n",
    "        h1 = torch.tanh(emb @ W1 + b1)\n",
    "        logits = h1 @ W2 + b2\n",
    "        probs = F.softmax(logits, dim=1)\n",
    "        idx = torch.multinomial(probs, 1, replacement=True, generator=g).item()\n",
    "        ch = itos[idx]\n",
    "        #print(ch)\n",
    "        context = context[1:] + [idx]\n",
    "        out += [idx]\n",
    "        if idx == 0: # end of word\n",
    "            break\n",
    "    print(''.join([itos[i] for i in out]))"
   ]
  },
  {
   "cell_type": "code",
   "execution_count": 23,
   "id": "c247bc09",
   "metadata": {},
   "outputs": [
    {
     "name": "stdout",
     "output_type": "stream",
     "text": [
      "torch.Size([3, 10])\n"
     ]
    }
   ],
   "source": [
    "context = [0] * block_size\n",
    "context_ = torch.tensor(context)\n",
    "C.shape\n",
    "print(C[context_].shape)"
   ]
  },
  {
   "cell_type": "code",
   "execution_count": 24,
   "id": "5b820aaf",
   "metadata": {},
   "outputs": [
    {
     "data": {
      "text/plain": [
       "torch.Size([30, 200])"
      ]
     },
     "execution_count": 24,
     "metadata": {},
     "output_type": "execute_result"
    }
   ],
   "source": [
    "W1.shape"
   ]
  },
  {
   "cell_type": "code",
   "execution_count": null,
   "id": "0baa77e4",
   "metadata": {},
   "outputs": [],
   "source": []
  }
 ],
 "metadata": {
  "kernelspec": {
   "display_name": "Python 3 (ipykernel)",
   "language": "python",
   "name": "python3"
  },
  "language_info": {
   "codemirror_mode": {
    "name": "ipython",
    "version": 3
   },
   "file_extension": ".py",
   "mimetype": "text/x-python",
   "name": "python",
   "nbconvert_exporter": "python",
   "pygments_lexer": "ipython3",
   "version": "3.10.6"
  }
 },
 "nbformat": 4,
 "nbformat_minor": 5
}
